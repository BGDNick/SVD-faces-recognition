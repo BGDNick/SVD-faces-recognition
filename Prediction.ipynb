{
 "cells": [
  {
   "cell_type": "code",
   "execution_count": 1,
   "id": "8744b3bf",
   "metadata": {},
   "outputs": [],
   "source": [
    "from recognition import SVDrecognition\n",
    "import matplotlib.pyplot as plt"
   ]
  },
  {
   "cell_type": "code",
   "execution_count": 2,
   "id": "0a9fb4de",
   "metadata": {},
   "outputs": [],
   "source": [
    "# Creating SVD recognition unit\n",
    "rec = SVDrecognition()"
   ]
  },
  {
   "cell_type": "code",
   "execution_count": 3,
   "id": "92a93a14",
   "metadata": {},
   "outputs": [],
   "source": [
    "# Fitting it on train images\n",
    "# By default it searches images through ./train folder\n",
    "rec.fit()"
   ]
  },
  {
   "cell_type": "code",
   "execution_count": 4,
   "id": "1983338b",
   "metadata": {},
   "outputs": [
    {
     "data": {
      "text/plain": [
       "(4.4023420952485e-13, './train/1.jpg')"
      ]
     },
     "execution_count": 4,
     "metadata": {},
     "output_type": "execute_result"
    }
   ],
   "source": [
    "# Reading test image\n",
    "img = plt.imread('./test/1.jpg')\n",
    "# Predicting for test image\n",
    "rec.predict(img)"
   ]
  }
 ],
 "metadata": {
  "kernelspec": {
   "display_name": "Python 3",
   "language": "python",
   "name": "python3"
  },
  "language_info": {
   "codemirror_mode": {
    "name": "ipython",
    "version": 3
   },
   "file_extension": ".py",
   "mimetype": "text/x-python",
   "name": "python",
   "nbconvert_exporter": "python",
   "pygments_lexer": "ipython3",
   "version": "3.8.8"
  }
 },
 "nbformat": 4,
 "nbformat_minor": 5
}
